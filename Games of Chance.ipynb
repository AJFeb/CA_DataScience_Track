{
 "cells": [
  {
   "cell_type": "code",
   "execution_count": 5,
   "metadata": {},
   "outputs": [],
   "source": [
    "import random"
   ]
  },
  {
   "cell_type": "code",
   "execution_count": 124,
   "metadata": {},
   "outputs": [],
   "source": [
    "#Game 1 - Coin flip\n",
    "def coin_flip(choice,bet):\n",
    "    money1 = 100\n",
    "    result = random.randint(0,1) #0 being 'Heads' result, 1 being 'Tails' result\n",
    "    if result == 0:\n",
    "        if choice == \"Heads\":\n",
    "            money1 += bet\n",
    "            return money1\n",
    "        else:\n",
    "            money1 -= bet\n",
    "            return money1\n",
    "    elif result == 1:\n",
    "        if choice == \"Tails\":\n",
    "            money1 += bet\n",
    "            return money1\n",
    "        else:\n",
    "            money1 -= bet\n",
    "            return money1"
   ]
  },
  {
   "cell_type": "code",
   "execution_count": 131,
   "metadata": {},
   "outputs": [
    {
     "name": "stdout",
     "output_type": "stream",
     "text": [
      "You now have this much money: 110\n"
     ]
    }
   ],
   "source": [
    "print(\"You now have this much money:\", coin_flip(\"Tails\",10))"
   ]
  },
  {
   "cell_type": "code",
   "execution_count": 169,
   "metadata": {},
   "outputs": [],
   "source": [
    "#Game 2 - Cho-Han\n",
    "def cho_han(guess, bet):\n",
    "    money2 = 100\n",
    "    die1 = random.randint(1,6)\n",
    "    die2 = random.randint(1,6)\n",
    "    result = die1+die2\n",
    "    if result%2 != 0:\n",
    "        if guess == \"Odd\":\n",
    "            money2 += bet\n",
    "            return money2\n",
    "        else:\n",
    "            money2 -= bet\n",
    "            return money2\n",
    "    elif result%2 == 0:\n",
    "        if guess == \"Even\":\n",
    "            money2 += bet\n",
    "            return money2\n",
    "        else:\n",
    "            money2 -= bet\n",
    "            return money2"
   ]
  },
  {
   "cell_type": "code",
   "execution_count": 173,
   "metadata": {},
   "outputs": [
    {
     "name": "stdout",
     "output_type": "stream",
     "text": [
      "You now have this much money: 110\n"
     ]
    }
   ],
   "source": [
    "print(\"You now have this much money:\", cho_han(\"Even\", 10))"
   ]
  },
  {
   "cell_type": "code",
   "execution_count": 166,
   "metadata": {},
   "outputs": [],
   "source": [
    "#Game 3 - Card Draw\n",
    "def random_card(player_1_bet, player_2_bet):\n",
    "    player_1_money = 100\n",
    "    player_2_money = 100\n",
    "    deck = list(range(1,53))\n",
    "    while len(deck) > 0:\n",
    "        player_1_card = random.choice(deck)\n",
    "        deck.remove(player_1_card)\n",
    "        player_2_card = random.choice(deck)\n",
    "        deck.remove(player_2_card)\n",
    "        if player_1_card > player_2_card:\n",
    "            player_1_money += player_1_bet\n",
    "            player_2_money -= player_2_bet\n",
    "            print((\"Player 1 wins!\", player_1_money), (\"Player 2 loses!\", player_2_money))\n",
    "            player_1_bet += 1\n",
    "            player_2_bet -= 1\n",
    "        elif player_1_card < player_2_card:\n",
    "            player_2_money += player_1_bet\n",
    "            player_1_money -= player_2_bet\n",
    "            print((\"Player 2 wins!\", player_2_money), (\"Player 1 loses!\", player_1_money))\n",
    "            player_2_bet += 1\n",
    "            player_1_bet -= 1"
   ]
  },
  {
   "cell_type": "code",
   "execution_count": 154,
   "metadata": {},
   "outputs": [
    {
     "name": "stdout",
     "output_type": "stream",
     "text": [
      "('Player 1 wins!', 110) ('Player 2 loses!', 90)\n",
      "('Player 2 wins!', 101) ('Player 1 loses!', 101)\n",
      "('Player 1 wins!', 111) ('Player 2 loses!', 91)\n",
      "('Player 2 wins!', 102) ('Player 1 loses!', 102)\n",
      "('Player 1 wins!', 112) ('Player 2 loses!', 92)\n",
      "('Player 2 wins!', 103) ('Player 1 loses!', 103)\n",
      "('Player 2 wins!', 113) ('Player 1 loses!', 93)\n",
      "('Player 1 wins!', 102) ('Player 2 loses!', 102)\n",
      "('Player 2 wins!', 112) ('Player 1 loses!', 92)\n",
      "('Player 2 wins!', 121) ('Player 1 loses!', 81)\n",
      "('Player 1 wins!', 89) ('Player 2 loses!', 109)\n",
      "('Player 1 wins!', 98) ('Player 2 loses!', 98)\n",
      "('Player 1 wins!', 108) ('Player 2 loses!', 88)\n",
      "('Player 1 wins!', 119) ('Player 2 loses!', 79)\n",
      "('Player 2 wins!', 91) ('Player 1 loses!', 111)\n",
      "('Player 2 wins!', 102) ('Player 1 loses!', 102)\n",
      "('Player 2 wins!', 112) ('Player 1 loses!', 92)\n",
      "('Player 2 wins!', 121) ('Player 1 loses!', 81)\n",
      "('Player 2 wins!', 129) ('Player 1 loses!', 69)\n",
      "('Player 2 wins!', 136) ('Player 1 loses!', 56)\n",
      "('Player 1 wins!', 62) ('Player 2 loses!', 122)\n",
      "('Player 1 wins!', 69) ('Player 2 loses!', 109)\n",
      "('Player 2 wins!', 117) ('Player 1 loses!', 57)\n",
      "('Player 1 wins!', 64) ('Player 2 loses!', 104)\n",
      "('Player 2 wins!', 112) ('Player 1 loses!', 52)\n",
      "('Player 1 wins!', 59) ('Player 2 loses!', 99)\n"
     ]
    }
   ],
   "source": [
    "random_card(10,10)"
   ]
  },
  {
   "cell_type": "code",
   "execution_count": 162,
   "metadata": {},
   "outputs": [],
   "source": [
    "#Game 4 - Roulette\n",
    "def roulette(guess, bet):\n",
    "    money3 = 100\n",
    "    num = ['00'] + list(range(0,37))\n",
    "    landing = random.choice(num)\n",
    "    print(\"You landed on:\", landing)\n",
    "    print(\"You guessed:\", guess)\n",
    "    if landing == num[:1]:\n",
    "        if landing == num[0]:\n",
    "            if guess == landing:\n",
    "                money3 += bet*35\n",
    "                return \"You win big!\", money3\n",
    "            elif guess == \"Even\" or guess == \"Odd\":\n",
    "                money3 -= bet\n",
    "                return \"You lose!\", money3\n",
    "            else:\n",
    "                money3 -= bet*35\n",
    "                return \"Lose big :(\", money3\n",
    "        elif landing == num[1]:\n",
    "            if guess == landing:\n",
    "                money3 += bet*35\n",
    "                return \"You win big!\", money3\n",
    "            elif guess == \"Even\" or guess == \"Odd\":\n",
    "                money3 -= bet\n",
    "                return \"You lose!\", money3\n",
    "            else:\n",
    "                money3 -= bet*35\n",
    "                return \"Lose big :(\", money3\n",
    "    elif landing%2 == 0:\n",
    "        if guess == landing:\n",
    "            money3 += bet*35\n",
    "            return \"You win big!\", money3\n",
    "        elif guess == \"Even\":\n",
    "            money3 += bet\n",
    "            return \"You win!\", money3\n",
    "        elif guess == \"Odd\":\n",
    "            money3 -= bet\n",
    "            return \"You lose!\", money3\n",
    "        else:\n",
    "            money3 -= bet*35\n",
    "            return \"Lose big :(\", money3\n",
    "    elif landing%2 != 0: \n",
    "        if guess == landing: \n",
    "            money3 += bet*35\n",
    "            return \"You win big!\", money3\n",
    "        elif guess == \"Odd\":\n",
    "            money3 += bet\n",
    "            return \"You win!\", money3\n",
    "        elif guess == \"Even\":\n",
    "            money3 -= bet\n",
    "            return \"You lose!\", money3\n",
    "        else:\n",
    "            money3 -= bet*35\n",
    "            return \"Lose big :(\", money3"
   ]
  },
  {
   "cell_type": "code",
   "execution_count": 163,
   "metadata": {},
   "outputs": [
    {
     "name": "stdout",
     "output_type": "stream",
     "text": [
      "You landed on: 24\n",
      "You guessed: Even\n",
      "('You win!', 110)\n"
     ]
    }
   ],
   "source": [
    "print(roulette(\"Even\",10))"
   ]
  },
  {
   "cell_type": "code",
   "execution_count": null,
   "metadata": {},
   "outputs": [],
   "source": []
  }
 ],
 "metadata": {
  "kernelspec": {
   "display_name": "Python 3",
   "language": "python",
   "name": "python3"
  },
  "language_info": {
   "codemirror_mode": {
    "name": "ipython",
    "version": 3
   },
   "file_extension": ".py",
   "mimetype": "text/x-python",
   "name": "python",
   "nbconvert_exporter": "python",
   "pygments_lexer": "ipython3",
   "version": "3.7.3"
  }
 },
 "nbformat": 4,
 "nbformat_minor": 2
}
